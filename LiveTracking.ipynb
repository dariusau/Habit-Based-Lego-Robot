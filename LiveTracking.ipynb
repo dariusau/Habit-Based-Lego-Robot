{
 "cells": [
  {
   "cell_type": "code",
   "execution_count": 3,
   "metadata": {},
   "outputs": [],
   "source": [
    "import numpy as np\n",
    "import matplotlib.pyplot as plt\n",
    "from IPython.display import clear_output\n",
    "import pandas as pd\n",
    "'''\n",
    "plt.axis([0, 10, 0, 1])\n",
    "plt.ion()\n",
    "\n",
    "while True:\n",
    "    data = pd.read_csv(\"output.csv\")\n",
    "    data['left motor'].plot()\n",
    "    #y = np.random.random()\n",
    "    #plt.scatter(i, y)\n",
    "    clear_output()\n",
    "    plt.pause(1)\n",
    "\n",
    "while True:\n",
    "    clear_output()\n",
    "    plt.pause(1)'''\n",
    "clear_output()"
   ]
  },
  {
   "cell_type": "code",
   "execution_count": null,
   "metadata": {
    "collapsed": true
   },
   "outputs": [],
   "source": []
  }
 ],
 "metadata": {
  "kernelspec": {
   "display_name": "Python 3",
   "language": "python",
   "name": "python3"
  },
  "language_info": {
   "codemirror_mode": {
    "name": "ipython",
    "version": 3
   },
   "file_extension": ".py",
   "mimetype": "text/x-python",
   "name": "python",
   "nbconvert_exporter": "python",
   "pygments_lexer": "ipython3",
   "version": "3.6.3"
  }
 },
 "nbformat": 4,
 "nbformat_minor": 2
}
